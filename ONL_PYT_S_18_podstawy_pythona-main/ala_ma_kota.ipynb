{
 "cells": [
  {
   "metadata": {
    "ExecuteTime": {
     "end_time": "2024-04-09T13:44:25.082114Z",
     "start_time": "2024-04-09T13:44:25.077217Z"
    }
   },
   "cell_type": "code",
   "source": "s = 'ala ma kota'",
   "id": "fcd8abfb4dbe49cf",
   "outputs": [],
   "execution_count": 1
  },
  {
   "metadata": {
    "ExecuteTime": {
     "end_time": "2024-04-09T13:44:34.704080Z",
     "start_time": "2024-04-09T13:44:34.692329Z"
    }
   },
   "cell_type": "code",
   "source": "s.upper()",
   "id": "f979daa701f8b5f9",
   "outputs": [
    {
     "data": {
      "text/plain": [
       "'ALA MA KOTA'"
      ]
     },
     "execution_count": 2,
     "metadata": {},
     "output_type": "execute_result"
    }
   ],
   "execution_count": 2
  },
  {
   "metadata": {
    "ExecuteTime": {
     "end_time": "2024-04-09T13:44:43.929715Z",
     "start_time": "2024-04-09T13:44:43.918848Z"
    }
   },
   "cell_type": "code",
   "source": "s.lower()",
   "id": "aa7aebfe5c3fab0",
   "outputs": [
    {
     "data": {
      "text/plain": [
       "'ala ma kota'"
      ]
     },
     "execution_count": 3,
     "metadata": {},
     "output_type": "execute_result"
    }
   ],
   "execution_count": 3
  },
  {
   "metadata": {
    "ExecuteTime": {
     "end_time": "2024-04-09T13:45:10.830415Z",
     "start_time": "2024-04-09T13:45:10.823593Z"
    }
   },
   "cell_type": "code",
   "source": "s.replace('ala', 'roman')",
   "id": "1683188d5e73c203",
   "outputs": [
    {
     "data": {
      "text/plain": [
       "'roman ma kota'"
      ]
     },
     "execution_count": 5,
     "metadata": {},
     "output_type": "execute_result"
    }
   ],
   "execution_count": 5
  },
  {
   "metadata": {
    "ExecuteTime": {
     "end_time": "2024-04-09T13:45:46.523013Z",
     "start_time": "2024-04-09T13:45:46.518672Z"
    }
   },
   "cell_type": "code",
   "source": "s = s.replace('ala', 'roman')",
   "id": "92258351c6471512",
   "outputs": [],
   "execution_count": 7
  },
  {
   "metadata": {
    "ExecuteTime": {
     "end_time": "2024-04-09T13:45:58.155916Z",
     "start_time": "2024-04-09T13:45:58.148741Z"
    }
   },
   "cell_type": "code",
   "source": "s",
   "id": "4ea2169c439dc855",
   "outputs": [
    {
     "data": {
      "text/plain": [
       "'roman ma kota'"
      ]
     },
     "execution_count": 9,
     "metadata": {},
     "output_type": "execute_result"
    }
   ],
   "execution_count": 9
  },
  {
   "metadata": {
    "ExecuteTime": {
     "end_time": "2024-04-09T13:47:15.684631Z",
     "start_time": "2024-04-09T13:47:15.679972Z"
    }
   },
   "cell_type": "code",
   "source": "s += ' i wszy'",
   "id": "a9366ab9b0639268",
   "outputs": [],
   "execution_count": 10
  },
  {
   "metadata": {
    "ExecuteTime": {
     "end_time": "2024-04-09T13:47:18.950550Z",
     "start_time": "2024-04-09T13:47:18.942071Z"
    }
   },
   "cell_type": "code",
   "source": "s",
   "id": "3ce12bfadb850162",
   "outputs": [
    {
     "data": {
      "text/plain": [
       "'roman ma kota i wszy'"
      ]
     },
     "execution_count": 11,
     "metadata": {},
     "output_type": "execute_result"
    }
   ],
   "execution_count": 11
  },
  {
   "metadata": {
    "ExecuteTime": {
     "end_time": "2024-04-09T13:47:40.383706Z",
     "start_time": "2024-04-09T13:47:40.375500Z"
    }
   },
   "cell_type": "code",
   "source": "s.endswith('wszy')",
   "id": "72bbf9659bf7ad95",
   "outputs": [
    {
     "data": {
      "text/plain": [
       "True"
      ]
     },
     "execution_count": 12,
     "metadata": {},
     "output_type": "execute_result"
    }
   ],
   "execution_count": 12
  },
  {
   "metadata": {
    "ExecuteTime": {
     "end_time": "2024-04-09T13:48:34.467096Z",
     "start_time": "2024-04-09T13:48:34.459587Z"
    }
   },
   "cell_type": "code",
   "source": "s.startswith('roman')",
   "id": "f59badc552d753a1",
   "outputs": [
    {
     "data": {
      "text/plain": [
       "True"
      ]
     },
     "execution_count": 14,
     "metadata": {},
     "output_type": "execute_result"
    }
   ],
   "execution_count": 14
  },
  {
   "metadata": {
    "ExecuteTime": {
     "end_time": "2024-04-09T13:50:13.335966Z",
     "start_time": "2024-04-09T13:50:13.329376Z"
    }
   },
   "cell_type": "code",
   "source": "s = s.replace('ma ', 'ma 2 ')",
   "id": "fa997dcb18040248",
   "outputs": [],
   "execution_count": 15
  },
  {
   "metadata": {
    "ExecuteTime": {
     "end_time": "2024-04-09T13:50:15.221956Z",
     "start_time": "2024-04-09T13:50:15.213490Z"
    }
   },
   "cell_type": "code",
   "source": "s",
   "id": "37b344104f457014",
   "outputs": [
    {
     "data": {
      "text/plain": [
       "'roman ma 2 kota i wszy'"
      ]
     },
     "execution_count": 16,
     "metadata": {},
     "output_type": "execute_result"
    }
   ],
   "execution_count": 16
  },
  {
   "metadata": {
    "ExecuteTime": {
     "end_time": "2024-04-09T13:50:41.172920Z",
     "start_time": "2024-04-09T13:50:41.165205Z"
    }
   },
   "cell_type": "code",
   "source": [
    "l = s.split(' ')\n",
    "l"
   ],
   "id": "e4452833db218a25",
   "outputs": [
    {
     "data": {
      "text/plain": [
       "['roman', 'ma', '2', 'kota', 'i', 'wszy']"
      ]
     },
     "execution_count": 17,
     "metadata": {},
     "output_type": "execute_result"
    }
   ],
   "execution_count": 17
  },
  {
   "metadata": {
    "ExecuteTime": {
     "end_time": "2024-04-09T13:51:17.806348Z",
     "start_time": "2024-04-09T13:51:17.800822Z"
    }
   },
   "cell_type": "code",
   "source": "s = s.replace('2 ', 'dwa ')",
   "id": "65d9617a7cd184f0",
   "outputs": [],
   "execution_count": 18
  },
  {
   "metadata": {
    "ExecuteTime": {
     "end_time": "2024-04-09T13:51:19.691174Z",
     "start_time": "2024-04-09T13:51:19.683375Z"
    }
   },
   "cell_type": "code",
   "source": "s",
   "id": "3f278d6226595b5a",
   "outputs": [
    {
     "data": {
      "text/plain": [
       "'roman ma dwa kota i wszy'"
      ]
     },
     "execution_count": 19,
     "metadata": {},
     "output_type": "execute_result"
    }
   ],
   "execution_count": 19
  },
  {
   "metadata": {
    "ExecuteTime": {
     "end_time": "2024-04-09T13:51:54.803049Z",
     "start_time": "2024-04-09T13:51:54.794709Z"
    }
   },
   "cell_type": "code",
   "source": [
    "l = s.split(' ')\n",
    "l"
   ],
   "id": "4cd1a89f92e498f2",
   "outputs": [
    {
     "data": {
      "text/plain": [
       "['roman', 'ma', 'dwa', 'kota', 'i', 'wszy']"
      ]
     },
     "execution_count": 20,
     "metadata": {},
     "output_type": "execute_result"
    }
   ],
   "execution_count": 20
  },
  {
   "metadata": {
    "ExecuteTime": {
     "end_time": "2024-04-09T13:51:58.488869Z",
     "start_time": "2024-04-09T13:51:58.480419Z"
    }
   },
   "cell_type": "code",
   "source": "s",
   "id": "bbca107ce5d275ed",
   "outputs": [
    {
     "data": {
      "text/plain": [
       "'roman ma dwa kota i wszy'"
      ]
     },
     "execution_count": 21,
     "metadata": {},
     "output_type": "execute_result"
    }
   ],
   "execution_count": 21
  },
  {
   "metadata": {
    "ExecuteTime": {
     "end_time": "2024-04-09T13:58:49.892671Z",
     "start_time": "2024-04-09T13:58:49.883343Z"
    }
   },
   "cell_type": "code",
   "source": "[int(word) if isinstance(word, str) and word.isdigit() else word for word in l]",
   "id": "48a312cf39745641",
   "outputs": [
    {
     "data": {
      "text/plain": [
       "['roman', 'ma', 'dwa', 'kota', 'i', 'wszy']"
      ]
     },
     "execution_count": 22,
     "metadata": {},
     "output_type": "execute_result"
    }
   ],
   "execution_count": 22
  },
  {
   "metadata": {
    "ExecuteTime": {
     "end_time": "2024-04-09T13:58:59.292543Z",
     "start_time": "2024-04-09T13:58:59.284129Z"
    }
   },
   "cell_type": "code",
   "source": "l",
   "id": "8715f69b08ca8e8c",
   "outputs": [
    {
     "data": {
      "text/plain": [
       "['roman', 'ma', 'dwa', 'kota', 'i', 'wszy']"
      ]
     },
     "execution_count": 23,
     "metadata": {},
     "output_type": "execute_result"
    }
   ],
   "execution_count": 23
  },
  {
   "metadata": {
    "ExecuteTime": {
     "end_time": "2024-04-09T14:00:47.163643Z",
     "start_time": "2024-04-09T14:00:47.158359Z"
    }
   },
   "cell_type": "code",
   "source": "l = l[:-2]",
   "id": "99e7a2e79bd6c7cb",
   "outputs": [],
   "execution_count": 26
  },
  {
   "metadata": {
    "ExecuteTime": {
     "end_time": "2024-04-09T14:00:49.351373Z",
     "start_time": "2024-04-09T14:00:49.343317Z"
    }
   },
   "cell_type": "code",
   "source": "l",
   "id": "5894f5faa15eea58",
   "outputs": [
    {
     "data": {
      "text/plain": [
       "['roman', 'ma']"
      ]
     },
     "execution_count": 27,
     "metadata": {},
     "output_type": "execute_result"
    }
   ],
   "execution_count": 27
  },
  {
   "metadata": {
    "ExecuteTime": {
     "end_time": "2024-04-09T14:01:42.975530Z",
     "start_time": "2024-04-09T14:01:42.966808Z"
    }
   },
   "cell_type": "code",
   "source": [
    "l[-1] = l[::-1]\n",
    "l"
   ],
   "id": "bd5669916259021b",
   "outputs": [
    {
     "data": {
      "text/plain": [
       "['roman', ['ma', 'roman']]"
      ]
     },
     "execution_count": 28,
     "metadata": {},
     "output_type": "execute_result"
    }
   ],
   "execution_count": 28
  },
  {
   "metadata": {
    "ExecuteTime": {
     "end_time": "2024-04-09T14:02:53.632266Z",
     "start_time": "2024-04-09T14:02:53.624550Z"
    }
   },
   "cell_type": "code",
   "source": "str(l)",
   "id": "1075d19b3441b70",
   "outputs": [
    {
     "data": {
      "text/plain": [
       "\"['roman', ['ma', 'roman']]\""
      ]
     },
     "execution_count": 29,
     "metadata": {},
     "output_type": "execute_result"
    }
   ],
   "execution_count": 29
  },
  {
   "metadata": {
    "ExecuteTime": {
     "end_time": "2024-04-09T14:10:13.316489Z",
     "start_time": "2024-04-09T14:10:13.307906Z"
    }
   },
   "cell_type": "code",
   "source": "' '.join(str(word) for word in l)",
   "id": "ac9480adc398aa1c",
   "outputs": [
    {
     "data": {
      "text/plain": [
       "\"roman ['ma', 'roman']\""
      ]
     },
     "execution_count": 30,
     "metadata": {},
     "output_type": "execute_result"
    }
   ],
   "execution_count": 30
  },
  {
   "metadata": {
    "ExecuteTime": {
     "end_time": "2024-04-09T14:29:08.314189Z",
     "start_time": "2024-04-09T14:29:08.310868Z"
    }
   },
   "cell_type": "code",
   "source": [
    "\n",
    "\n"
   ],
   "id": "25ea6c52ed743ea9",
   "outputs": [],
   "execution_count": 30
  },
  {
   "metadata": {},
   "cell_type": "code",
   "outputs": [],
   "execution_count": null,
   "source": "def ",
   "id": "1f42717d150758ff"
  }
 ],
 "metadata": {
  "kernelspec": {
   "display_name": "Python 3",
   "language": "python",
   "name": "python3"
  },
  "language_info": {
   "codemirror_mode": {
    "name": "ipython",
    "version": 2
   },
   "file_extension": ".py",
   "mimetype": "text/x-python",
   "name": "python",
   "nbconvert_exporter": "python",
   "pygments_lexer": "ipython2",
   "version": "2.7.6"
  }
 },
 "nbformat": 4,
 "nbformat_minor": 5
}
