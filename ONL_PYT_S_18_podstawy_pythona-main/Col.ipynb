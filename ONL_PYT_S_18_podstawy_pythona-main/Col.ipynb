{
 "cells": [
  {
   "metadata": {},
   "cell_type": "markdown",
   "source": [
    "# list\n",
    "\n",
    "1. Kolekcja\n",
    "2. Uporządkowana (ordered)\n",
    "3. Heterogeniczna\n",
    "4. Modyfikowalna (mutable)\n",
    "\n",
    "```python\n",
    "\n",
    "x = [1, 2, 3]\n",
    "y = list(`ala`) # [`a`, `l`, `a`]"
   ],
   "id": "90cf7920d5c10295"
  },
  {
   "metadata": {
    "ExecuteTime": {
     "end_time": "2024-04-09T12:06:33.381130Z",
     "start_time": "2024-04-09T12:06:33.369560Z"
    }
   },
   "cell_type": "code",
   "source": [
    "print(dir([]))\n",
    "      \n",
    "dir(list)\n",
    "\n",
    "    "
   ],
   "id": "598ad141ff589123",
   "outputs": [
    {
     "name": "stdout",
     "output_type": "stream",
     "text": [
      "['__add__', '__class__', '__class_getitem__', '__contains__', '__delattr__', '__delitem__', '__dir__', '__doc__', '__eq__', '__format__', '__ge__', '__getattribute__', '__getitem__', '__gt__', '__hash__', '__iadd__', '__imul__', '__init__', '__init_subclass__', '__iter__', '__le__', '__len__', '__lt__', '__mul__', '__ne__', '__new__', '__reduce__', '__reduce_ex__', '__repr__', '__reversed__', '__rmul__', '__setattr__', '__setitem__', '__sizeof__', '__str__', '__subclasshook__', 'append', 'clear', 'copy', 'count', 'extend', 'index', 'insert', 'pop', 'remove', 'reverse', 'sort']\n"
     ]
    },
    {
     "data": {
      "text/plain": [
       "['__add__',\n",
       " '__class__',\n",
       " '__class_getitem__',\n",
       " '__contains__',\n",
       " '__delattr__',\n",
       " '__delitem__',\n",
       " '__dir__',\n",
       " '__doc__',\n",
       " '__eq__',\n",
       " '__format__',\n",
       " '__ge__',\n",
       " '__getattribute__',\n",
       " '__getitem__',\n",
       " '__gt__',\n",
       " '__hash__',\n",
       " '__iadd__',\n",
       " '__imul__',\n",
       " '__init__',\n",
       " '__init_subclass__',\n",
       " '__iter__',\n",
       " '__le__',\n",
       " '__len__',\n",
       " '__lt__',\n",
       " '__mul__',\n",
       " '__ne__',\n",
       " '__new__',\n",
       " '__reduce__',\n",
       " '__reduce_ex__',\n",
       " '__repr__',\n",
       " '__reversed__',\n",
       " '__rmul__',\n",
       " '__setattr__',\n",
       " '__setitem__',\n",
       " '__sizeof__',\n",
       " '__str__',\n",
       " '__subclasshook__',\n",
       " 'append',\n",
       " 'clear',\n",
       " 'copy',\n",
       " 'count',\n",
       " 'extend',\n",
       " 'index',\n",
       " 'insert',\n",
       " 'pop',\n",
       " 'remove',\n",
       " 'reverse',\n",
       " 'sort']"
      ]
     },
     "execution_count": 36,
     "metadata": {},
     "output_type": "execute_result"
    }
   ],
   "execution_count": 36
  },
  {
   "metadata": {
    "ExecuteTime": {
     "end_time": "2024-04-09T12:06:33.615909Z",
     "start_time": "2024-04-09T12:06:33.606948Z"
    }
   },
   "cell_type": "code",
   "source": [
    "x = [1, 2, 3, 4]\n",
    "x.append(42)\n",
    "x"
   ],
   "id": "7068972f0de6fca5",
   "outputs": [
    {
     "data": {
      "text/plain": [
       "[1, 2, 3, 4, 42]"
      ]
     },
     "execution_count": 37,
     "metadata": {},
     "output_type": "execute_result"
    }
   ],
   "execution_count": 37
  },
  {
   "metadata": {
    "ExecuteTime": {
     "end_time": "2024-04-09T12:06:33.730300Z",
     "start_time": "2024-04-09T12:06:33.650368Z"
    }
   },
   "cell_type": "code",
   "source": [
    "X.insert(1, 42)\n",
    "x"
   ],
   "id": "b7b00c754fead042",
   "outputs": [
    {
     "ename": "NameError",
     "evalue": "name 'X' is not defined",
     "output_type": "error",
     "traceback": [
      "\u001B[0;31m---------------------------------------------------------------------------\u001B[0m",
      "\u001B[0;31mNameError\u001B[0m                                 Traceback (most recent call last)",
      "Cell \u001B[0;32mIn[38], line 1\u001B[0m\n\u001B[0;32m----> 1\u001B[0m \u001B[43mX\u001B[49m\u001B[38;5;241m.\u001B[39minsert(\u001B[38;5;241m1\u001B[39m, \u001B[38;5;241m42\u001B[39m)\n\u001B[1;32m      2\u001B[0m x\n",
      "\u001B[0;31mNameError\u001B[0m: name 'X' is not defined"
     ]
    }
   ],
   "execution_count": 38
  },
  {
   "metadata": {
    "ExecuteTime": {
     "end_time": "2024-04-09T12:06:33.811482Z",
     "start_time": "2024-04-09T12:06:33.762861Z"
    }
   },
   "cell_type": "code",
   "source": [
    "x.sort()\n",
    "x"
   ],
   "id": "a16aa38a925a4b4c",
   "outputs": [
    {
     "data": {
      "text/plain": [
       "[1, 2, 3, 4, 42]"
      ]
     },
     "execution_count": 39,
     "metadata": {},
     "output_type": "execute_result"
    }
   ],
   "execution_count": 39
  },
  {
   "metadata": {},
   "cell_type": "markdown",
   "source": [
    "a | l | a |  | m | a\n",
    ":--:|:--:|:--:|:--:|:--:|:--:\n",
    "0 | 1 | 2 | 3 | 4 | 5\n",
    "-6 | -5 | -4 | -3 | -2 | -1"
   ],
   "id": "97934e5b6cfba639"
  },
  {
   "metadata": {
    "ExecuteTime": {
     "end_time": "2024-04-09T12:06:33.912684Z",
     "start_time": "2024-04-09T12:06:33.905257Z"
    }
   },
   "cell_type": "code",
   "source": [
    "# Tuple\n",
    "\n",
    "1. Kol0ekcja\n",
    "2. Uporządkowana\n",
    "3. Heterogeniczna\n",
    "4. Niemodyfikowalna\n",
    "\n",
    "\n",
    "\n",
    "t = (1, 2, 3)\n",
    "t1 = (1,)\n",
    "t2 = tuple([1, 2, 3])\n",
    "t3 = tuple()\n"
   ],
   "id": "4eb7ceb79b9d170a",
   "outputs": [
    {
     "ename": "SyntaxError",
     "evalue": "invalid syntax (2378033364.py, line 3)",
     "output_type": "error",
     "traceback": [
      "\u001B[0;36m  Cell \u001B[0;32mIn[40], line 3\u001B[0;36m\u001B[0m\n\u001B[0;31m    1. Kol0ekcja\u001B[0m\n\u001B[0m       ^\u001B[0m\n\u001B[0;31mSyntaxError\u001B[0m\u001B[0;31m:\u001B[0m invalid syntax\n"
     ]
    }
   ],
   "execution_count": 40
  },
  {
   "metadata": {
    "ExecuteTime": {
     "end_time": "2024-04-09T12:06:34.012715Z",
     "start_time": "2024-04-09T12:06:34.004624Z"
    }
   },
   "cell_type": "code",
   "source": [
    "\n",
    "x = (1, 2, 3)\n",
    "type(x)"
   ],
   "id": "4e649e83029cf5e4",
   "outputs": [
    {
     "data": {
      "text/plain": [
       "tuple"
      ]
     },
     "execution_count": 41,
     "metadata": {},
     "output_type": "execute_result"
    }
   ],
   "execution_count": 41
  },
  {
   "metadata": {
    "ExecuteTime": {
     "end_time": "2024-04-09T12:06:34.126608Z",
     "start_time": "2024-04-09T12:06:34.117625Z"
    }
   },
   "cell_type": "code",
   "source": "x.count(2)",
   "id": "5fe1e9eb3572d863",
   "outputs": [
    {
     "data": {
      "text/plain": [
       "1"
      ]
     },
     "execution_count": 42,
     "metadata": {},
     "output_type": "execute_result"
    }
   ],
   "execution_count": 42
  },
  {
   "metadata": {
    "ExecuteTime": {
     "end_time": "2024-04-09T12:06:34.218225Z",
     "start_time": "2024-04-09T12:06:34.149015Z"
    }
   },
   "cell_type": "code",
   "source": "x.index(2)",
   "id": "bb0fc04eb02a93a0",
   "outputs": [
    {
     "data": {
      "text/plain": [
       "1"
      ]
     },
     "execution_count": 43,
     "metadata": {},
     "output_type": "execute_result"
    }
   ],
   "execution_count": 43
  },
  {
   "metadata": {},
   "cell_type": "markdown",
   "source": [
    "##Tuple packing / unpacking\n",
    "(pakowanie krotki/ rozpakowywanie)"
   ],
   "id": "659ec6b7db42cb78"
  },
  {
   "metadata": {
    "ExecuteTime": {
     "end_time": "2024-04-09T12:06:34.291931Z",
     "start_time": "2024-04-09T12:06:34.221700Z"
    }
   },
   "cell_type": "code",
   "source": [
    "x = ('ala', 'ola', 'ela')\n",
    "a, o, e = x\n",
    "print(a, o, e)"
   ],
   "id": "d60e3808aa31e8ea",
   "outputs": [
    {
     "name": "stdout",
     "output_type": "stream",
     "text": [
      "ala ola ela\n"
     ]
    }
   ],
   "execution_count": 44
  },
  {
   "metadata": {
    "ExecuteTime": {
     "end_time": "2024-04-09T12:06:34.418623Z",
     "start_time": "2024-04-09T12:06:34.295198Z"
    }
   },
   "cell_type": "code",
   "source": "a1, o1 = x",
   "id": "75293c27e423ee9c",
   "outputs": [
    {
     "ename": "ValueError",
     "evalue": "too many values to unpack (expected 2)",
     "output_type": "error",
     "traceback": [
      "\u001B[0;31m---------------------------------------------------------------------------\u001B[0m",
      "\u001B[0;31mValueError\u001B[0m                                Traceback (most recent call last)",
      "Cell \u001B[0;32mIn[45], line 1\u001B[0m\n\u001B[0;32m----> 1\u001B[0m a1, o1 \u001B[38;5;241m=\u001B[39m x\n",
      "\u001B[0;31mValueError\u001B[0m: too many values to unpack (expected 2)"
     ]
    }
   ],
   "execution_count": 45
  },
  {
   "metadata": {
    "ExecuteTime": {
     "end_time": "2024-04-09T12:06:34.422646Z",
     "start_time": "2024-04-09T12:06:34.422109Z"
    }
   },
   "cell_type": "code",
   "source": "y = (1, 2, 3, 4, 5, 6, 7)",
   "id": "f8315a0b769cb907",
   "outputs": [],
   "execution_count": null
  },
  {
   "metadata": {},
   "cell_type": "code",
   "source": "q, w, *rest = y",
   "id": "2fb7d32e96110a54",
   "outputs": [],
   "execution_count": null
  },
  {
   "metadata": {},
   "cell_type": "code",
   "source": "print(q, w, rest)",
   "id": "3341e56d39ee635a",
   "outputs": [],
   "execution_count": null
  },
  {
   "metadata": {
    "ExecuteTime": {
     "end_time": "2024-04-09T12:06:34.546959Z",
     "start_time": "2024-04-09T12:06:34.458816Z"
    }
   },
   "cell_type": "code",
   "source": [
    "e, *others, u = y\n",
    "print(e, u, others)"
   ],
   "id": "aacf74aaafa1d465",
   "outputs": [
    {
     "ename": "TypeError",
     "evalue": "cannot unpack non-iterable int object",
     "output_type": "error",
     "traceback": [
      "\u001B[0;31m---------------------------------------------------------------------------\u001B[0m",
      "\u001B[0;31mTypeError\u001B[0m                                 Traceback (most recent call last)",
      "Cell \u001B[0;32mIn[46], line 1\u001B[0m\n\u001B[0;32m----> 1\u001B[0m e, \u001B[38;5;241m*\u001B[39mothers, u \u001B[38;5;241m=\u001B[39m y\n\u001B[1;32m      2\u001B[0m \u001B[38;5;28mprint\u001B[39m(e, u, others)\n",
      "\u001B[0;31mTypeError\u001B[0m: cannot unpack non-iterable int object"
     ]
    }
   ],
   "execution_count": 46
  },
  {
   "metadata": {
    "ExecuteTime": {
     "end_time": "2024-04-09T12:06:34.550504Z",
     "start_time": "2024-04-09T12:06:34.550207Z"
    }
   },
   "cell_type": "code",
   "source": [
    "e1, e2, *o, u1, u2 = y\n",
    "print(e1, e2, u1,u2\n",
    "      )"
   ],
   "id": "5a0bb4f5f852f686",
   "outputs": [],
   "execution_count": null
  },
  {
   "metadata": {
    "ExecuteTime": {
     "end_time": "2024-04-09T12:06:34.658866Z",
     "start_time": "2024-04-09T12:06:34.563673Z"
    }
   },
   "cell_type": "code",
   "source": "*items, c, v = y",
   "id": "e1a5cb745e90443c",
   "outputs": [
    {
     "ename": "TypeError",
     "evalue": "cannot unpack non-iterable int object",
     "output_type": "error",
     "traceback": [
      "\u001B[0;31m---------------------------------------------------------------------------\u001B[0m",
      "\u001B[0;31mTypeError\u001B[0m                                 Traceback (most recent call last)",
      "Cell \u001B[0;32mIn[47], line 1\u001B[0m\n\u001B[0;32m----> 1\u001B[0m \u001B[38;5;241m*\u001B[39mitems, c, v \u001B[38;5;241m=\u001B[39m y\n",
      "\u001B[0;31mTypeError\u001B[0m: cannot unpack non-iterable int object"
     ]
    }
   ],
   "execution_count": 47
  },
  {
   "metadata": {},
   "cell_type": "code",
   "source": [
    "x = 1, 2, 3, 4\n",
    "type(x)"
   ],
   "id": "d5ef6862928a920d",
   "outputs": [],
   "execution_count": null
  },
  {
   "metadata": {},
   "cell_type": "code",
   "source": "x",
   "id": "c31722a0139a17bb",
   "outputs": [],
   "execution_count": null
  },
  {
   "metadata": {
    "ExecuteTime": {
     "end_time": "2024-04-09T12:06:34.759595Z",
     "start_time": "2024-04-09T12:06:34.716087Z"
    }
   },
   "cell_type": "code",
   "source": [
    "# napisz kod, który zamieni wartości 2 zmiennym\n",
    "x = 1\n",
    "y = 2\n",
    "z = x\n",
    "x = y\n",
    "y = z\n",
    "x, y = y, x\n",
    "type(x ,y)"
   ],
   "id": "68010315dbba4c43",
   "outputs": [
    {
     "ename": "TypeError",
     "evalue": "type() takes 1 or 3 arguments",
     "output_type": "error",
     "traceback": [
      "\u001B[0;31m---------------------------------------------------------------------------\u001B[0m",
      "\u001B[0;31mTypeError\u001B[0m                                 Traceback (most recent call last)",
      "Cell \u001B[0;32mIn[48], line 8\u001B[0m\n\u001B[1;32m      6\u001B[0m y \u001B[38;5;241m=\u001B[39m z\n\u001B[1;32m      7\u001B[0m x, y \u001B[38;5;241m=\u001B[39m y, x\n\u001B[0;32m----> 8\u001B[0m \u001B[38;5;28;43mtype\u001B[39;49m\u001B[43m(\u001B[49m\u001B[43mx\u001B[49m\u001B[43m \u001B[49m\u001B[43m,\u001B[49m\u001B[43my\u001B[49m\u001B[43m)\u001B[49m\n",
      "\u001B[0;31mTypeError\u001B[0m: type() takes 1 or 3 arguments"
     ]
    }
   ],
   "execution_count": 48
  },
  {
   "metadata": {},
   "cell_type": "markdown",
   "source": [
    " \n",
    "# Dict\n",
    "\n",
    "1. Kolekcja par, klucz wartości\n",
    "2. Uporządkowany (3.6+), nie należy używać tej własności (orderdict)\n",
    "3. heterogeniczny\n",
    "4. Modyfikowalny\n",
    "\n",
    "```python\n",
    "d = {'key1': 1, 'key2': 2}\n",
    "d1 = dict([('key1', 1), ('key2', 2)])\n",
    "```"
   ],
   "id": "4d1e3130ab70a36"
  },
  {
   "metadata": {},
   "cell_type": "markdown",
   "source": [
    "# Keys\n",
    "- Tylko haszowalne\n",
    "\n",
    "\n",
    "\n",
    "\n",
    "\n"
   ],
   "id": "f7e161db783f9f5a"
  },
  {
   "metadata": {
    "ExecuteTime": {
     "end_time": "2024-04-09T12:46:07.425054Z",
     "start_time": "2024-04-09T12:46:07.417818Z"
    }
   },
   "cell_type": "code",
   "source": [
    "countries = {\n",
    "    \"Poland\": {\n",
    "        \"capital\": \"Warsaw\",\n",
    "        \"population\": 1790658\n",
    "    },\n",
    "    \"Germany\": {\n",
    "        \"capital\": \"Berlin\",\n",
    "        \"population\": 3748148\n",
    "    },\n",
    "    \"USA\": {\n",
    "        \"capital\": \"Washington D.C.\",\n",
    "        \"population\": 692683\n",
    "    },\n",
    "}"
   ],
   "id": "fa7f7ae6cb9df6ea",
   "outputs": [],
   "execution_count": 49
  },
  {
   "metadata": {
    "ExecuteTime": {
     "end_time": "2024-04-09T12:47:25.523969Z",
     "start_time": "2024-04-09T12:47:25.517076Z"
    }
   },
   "cell_type": "code",
   "source": "countries[\"Germany\"]",
   "id": "99f874f81e5f0f0e",
   "outputs": [
    {
     "data": {
      "text/plain": [
       "{'capital': 'Berlin', 'population': 3748148}"
      ]
     },
     "execution_count": 52,
     "metadata": {},
     "output_type": "execute_result"
    }
   ],
   "execution_count": 52
  },
  {
   "metadata": {
    "ExecuteTime": {
     "end_time": "2024-04-09T12:54:11.666863Z",
     "start_time": "2024-04-09T12:54:11.659862Z"
    }
   },
   "cell_type": "code",
   "source": [
    "# lista stolic \n",
    "capital_cities = []\n",
    "\n",
    "for city in countries.values():\n",
    "    capital_cities.append(city[\"capital\"])\n",
    "\n",
    "capital_cities"
   ],
   "id": "b05415c4ae7ef3b5",
   "outputs": [
    {
     "data": {
      "text/plain": [
       "['Warsaw', 'Berlin', 'Washington D.C.']"
      ]
     },
     "execution_count": 54,
     "metadata": {},
     "output_type": "execute_result"
    }
   ],
   "execution_count": 54
  },
  {
   "metadata": {},
   "cell_type": "code",
   "outputs": [],
   "execution_count": null,
   "source": [
    "countries = {\n",
    "    \"Poland\": {\n",
    "        \"capital\": \"Warsaw\",\n",
    "        \"population\": 1790658\n",
    "    },\n",
    "    \"Germany\": {\n",
    "        \"capital\": \"Berlin\",\n",
    "        \"population\": 3748148\n",
    "    },\n",
    "    \"USA\": {\n",
    "        \"capital\": \"Washington D.C.\",\n",
    "        \"population\": 692683\n",
    "    },\n",
    "}"
   ],
   "id": "8ece502c8b55f05a"
  },
  {
   "metadata": {
    "ExecuteTime": {
     "end_time": "2024-04-09T13:05:16.746942Z",
     "start_time": "2024-04-09T13:05:16.738500Z"
    }
   },
   "cell_type": "code",
   "source": "{city: country for city, country in countries.items()}",
   "id": "adb899850311fcce",
   "outputs": [
    {
     "data": {
      "text/plain": [
       "{'Poland': {'capital': 'Warsaw', 'population': 1790658},\n",
       " 'Germany': {'capital': 'Berlin', 'population': 3748148},\n",
       " 'USA': {'capital': 'Washington D.C.', 'population': 692683}}"
      ]
     },
     "execution_count": 58,
     "metadata": {},
     "output_type": "execute_result"
    }
   ],
   "execution_count": 58
  },
  {
   "metadata": {},
   "cell_type": "code",
   "outputs": [],
   "execution_count": null,
   "source": "",
   "id": "7bd90eb5ebb657b4"
  },
  {
   "metadata": {
    "ExecuteTime": {
     "end_time": "2024-04-09T13:18:33.837316Z",
     "start_time": "2024-04-09T13:18:33.828441Z"
    }
   },
   "cell_type": "code",
   "source": [
    "input_dict = {\n",
    "    \"name\": \"Han Solo\",\n",
    "    \"role\": \"smuggler\",\n",
    "    \"movie\": \"Star Wars\"\n",
    "}\n",
    "    \n",
    "    \n",
    "def message(info):\n",
    "    keys\n",
    "\n",
    "print(message(input_dict))"
   ],
   "id": "b6a29ee26b855602",
   "outputs": [
    {
     "ename": "IndentationError",
     "evalue": "unexpected indent (1224075268.py, line 9)",
     "output_type": "error",
     "traceback": [
      "\u001B[0;36m  Cell \u001B[0;32mIn[61], line 9\u001B[0;36m\u001B[0m\n\u001B[0;31m    return f\"In {info_dict['movie']}, {info_dict['name']} is a {info_dict['role']}.\"\u001B[0m\n\u001B[0m    ^\u001B[0m\n\u001B[0;31mIndentationError\u001B[0m\u001B[0;31m:\u001B[0m unexpected indent\n"
     ]
    }
   ],
   "execution_count": 61
  },
  {
   "metadata": {},
   "cell_type": "code",
   "outputs": [],
   "execution_count": null,
   "source": "",
   "id": "137c4858cac160a8"
  }
 ],
 "metadata": {
  "kernelspec": {
   "display_name": "Python 3",
   "language": "python",
   "name": "python3"
  },
  "language_info": {
   "codemirror_mode": {
    "name": "ipython",
    "version": 2
   },
   "file_extension": ".py",
   "mimetype": "text/x-python",
   "name": "python",
   "nbconvert_exporter": "python",
   "pygments_lexer": "ipython2",
   "version": "2.7.6"
  }
 },
 "nbformat": 4,
 "nbformat_minor": 5
}
